{
  "cells": [
    {
      "cell_type": "markdown",
      "metadata": {
        "cellId": "hsbyb4tyki9nx32utdtjpk",
        "id": "71AQJg3CDMn9"
      },
      "source": [
        "# Homework - Deep learning for image classification\n",
        "\n",
        "\n",
        "Let's train network to classify images from Tiny ImageNet!"
      ]
    },
    {
      "cell_type": "markdown",
      "metadata": {
        "id": "XRAuDetXlzm0"
      },
      "source": [
        "Your homework contains three parts:\n",
        "\n",
        "1. Make yourself familiar with ordinary training script structure and train good old vgg-like network\n",
        "2. Improve quality with resnet-like network\n",
        "3. Improve quality with test-time augmentation\n",
        "\n",
        "But first of all let's take a look on data"
      ]
    },
    {
      "cell_type": "markdown",
      "metadata": {
        "cellId": "34l2kkk7t84llsmzyxus1",
        "id": "2MaELIpIDMoA"
      },
      "source": [
        "# Tiny ImageNet dataset\n",
        "In this homework we shall focus on the image recognition problem on Tiny Image Net dataset. This dataset contains\n",
        "* 100k images of shape 3x64x64\n",
        "* 200 different classes: snakes, spiders, cats, trucks, grasshopper, gull, etc.\n",
        "\n",
        "In fact, it is a subset of ImageNet dataset with 4x downscaled images."
      ]
    },
    {
      "cell_type": "markdown",
      "metadata": {
        "cellId": "rjwf5t0s4f8zbnfmyu7q",
        "id": "swKtJaVyDMoU"
      },
      "source": [
        "## Image examples"
      ]
    },
    {
      "cell_type": "markdown",
      "metadata": {
        "cellId": "nbxuu26h8hhcgzzgeh5nh",
        "id": "h5wImXEaDMoV"
      },
      "source": [
        "\n",
        "\n",
        "<tr>\n",
        "    <td> <img src=\"https://github.com/yandexdataschool/Practical_DL/blob/sem3spring2019/week03_convnets/tinyim3.png?raw=1\" alt=\"Drawing\" style=\"width:90%\"/> </td>\n",
        "    <td> <img src=\"https://github.com/yandexdataschool/Practical_DL/blob/sem3spring2019/week03_convnets/tinyim2.png?raw=1\" alt=\"Drawing\" style=\"width:90%\"/> </td>\n",
        "</tr>\n"
      ]
    },
    {
      "cell_type": "markdown",
      "metadata": {
        "cellId": "w71ngep3y8jm2s3xt0qg",
        "id": "Do-qRQp8DMoW"
      },
      "source": [
        "<tr>\n",
        "    <td> <img src=\"https://github.com/yandexdataschool/Practical_DL/blob/sem3spring2019/week03_convnets/tiniim.png?raw=1\" alt=\"Drawing\" style=\"width:90%\"/> </td>\n",
        "</tr>"
      ]
    },
    {
      "cell_type": "markdown",
      "metadata": {
        "id": "J8HAd-BYlzm0"
      },
      "source": [
        "## Step 0 - data loading"
      ]
    },
    {
      "cell_type": "code",
      "metadata": {
        "cellId": "k1eayz1ur2mqly9zrk5my",
        "id": "sCvh1ICbHNCE",
        "scrolled": true,
        "ExecuteTime": {
          "end_time": "2024-10-03T18:00:11.832247Z",
          "start_time": "2024-10-03T18:00:10.395329Z"
        },
        "outputId": "de46aa68-2272-4840-da64-e89383a063ad",
        "colab": {
          "base_uri": "https://localhost:8080/"
        }
      },
      "source": [
        "#!S:bash\n",
        "# if you are in colab, just add '!' in the start of the following line\n",
        "!wget --no-check-certificate 'https://raw.githubusercontent.com/yandexdataschool/deep_vision_and_graphics/fall21/homework01/tiny_img.py' -O tiny_img.py\n",
        "!wget --no-check-certificate 'https://raw.githubusercontent.com/yandexdataschool/deep_vision_and_graphics/fall21/homework01/tiny_img_dataset.py' -O tiny_img_dataset.py"
      ],
      "outputs": [
        {
          "output_type": "stream",
          "name": "stdout",
          "text": [
            "--2024-10-05 19:48:03--  https://raw.githubusercontent.com/yandexdataschool/deep_vision_and_graphics/fall21/homework01/tiny_img.py\n",
            "Resolving raw.githubusercontent.com (raw.githubusercontent.com)... 185.199.108.133, 185.199.109.133, 185.199.111.133, ...\n",
            "Connecting to raw.githubusercontent.com (raw.githubusercontent.com)|185.199.108.133|:443... connected.\n",
            "HTTP request sent, awaiting response... 200 OK\n",
            "Length: 813 [text/plain]\n",
            "Saving to: ‘tiny_img.py’\n",
            "\n",
            "\rtiny_img.py           0%[                    ]       0  --.-KB/s               \rtiny_img.py         100%[===================>]     813  --.-KB/s    in 0s      \n",
            "\n",
            "2024-10-05 19:48:03 (72.2 MB/s) - ‘tiny_img.py’ saved [813/813]\n",
            "\n",
            "--2024-10-05 19:48:03--  https://raw.githubusercontent.com/yandexdataschool/deep_vision_and_graphics/fall21/homework01/tiny_img_dataset.py\n",
            "Resolving raw.githubusercontent.com (raw.githubusercontent.com)... 185.199.108.133, 185.199.109.133, 185.199.110.133, ...\n",
            "Connecting to raw.githubusercontent.com (raw.githubusercontent.com)|185.199.108.133|:443... connected.\n",
            "HTTP request sent, awaiting response... 200 OK\n",
            "Length: 1555 (1.5K) [text/plain]\n",
            "Saving to: ‘tiny_img_dataset.py’\n",
            "\n",
            "tiny_img_dataset.py 100%[===================>]   1.52K  --.-KB/s    in 0s      \n",
            "\n",
            "2024-10-05 19:48:03 (30.0 MB/s) - ‘tiny_img_dataset.py’ saved [1555/1555]\n",
            "\n"
          ]
        }
      ],
      "execution_count": 1
    },
    {
      "cell_type": "code",
      "metadata": {
        "cellId": "5nh892g5zpl9qv5fki8vpk",
        "id": "5rQhiYyRDMoG",
        "ExecuteTime": {
          "end_time": "2024-10-03T18:00:27.355858Z",
          "start_time": "2024-10-03T18:00:14.518321Z"
        },
        "outputId": "87430ed7-47f8-462a-bae9-041e012a2b84",
        "colab": {
          "base_uri": "https://localhost:8080/"
        }
      },
      "source": [
        "\n",
        "#!L\n",
        "from tiny_img import download_tinyImg200\n",
        "data_path = '.'\n",
        "download_tinyImg200(data_path)"
      ],
      "outputs": [
        {
          "output_type": "stream",
          "name": "stdout",
          "text": [
            "Dataset was downloaded to './tiny-imagenet-200.zip'\n",
            "Extract downloaded dataset to '.'\n"
          ]
        }
      ],
      "execution_count": 2
    },
    {
      "cell_type": "markdown",
      "metadata": {
        "id": "HX2L_LPqlzm1"
      },
      "source": [
        "## Part 1. Training script structure and vgg-like network"
      ]
    },
    {
      "cell_type": "markdown",
      "metadata": {
        "id": "1WvKLe-plzm1"
      },
      "source": [
        "In order to train a neural network for a specific task you should write code for 4 task-specific blocks and for one task-independed block:\n",
        "1. data loader (data provider) - how to load and augment data for nn training\n",
        "2. neural network architecture - what will be trained\n",
        "3. loss function (+ auxilary metrics on train and validation set) - how to check neural network quality\n",
        "4. optiimzer and training schedule - how neural network will be trained\n",
        "5. \"Train loop\" - what exactly to do for each batch, how often to check validation error, how often to save network and so on. This code could be written in general way and reused between different training scripts\n"
      ]
    },
    {
      "cell_type": "code",
      "metadata": {
        "cellId": "g2i37mixtk9kkxkki1y8",
        "id": "rS_-00tYDMoB",
        "ExecuteTime": {
          "end_time": "2024-10-03T18:00:29.021974Z",
          "start_time": "2024-10-03T18:00:27.366432Z"
        },
        "outputId": "a7da7446-bc98-478a-cfc8-de67ec5995f9",
        "colab": {
          "base_uri": "https://localhost:8080/"
        }
      },
      "source": [
        "#!L\n",
        "import torch\n",
        "import torchvision\n",
        "from torchvision import transforms\n",
        "import tqdm\n",
        "\n",
        "def get_computing_device():\n",
        "    if torch.cuda.is_available():\n",
        "        device = torch.device('cuda:0')\n",
        "    else:\n",
        "        device = torch.device('cpu')\n",
        "    return device\n",
        "\n",
        "device = get_computing_device()\n",
        "print(f\"Our main computing device is '{device}'\")"
      ],
      "outputs": [
        {
          "output_type": "stream",
          "name": "stdout",
          "text": [
            "Our main computing device is 'cuda:0'\n"
          ]
        }
      ],
      "execution_count": 3
    },
    {
      "cell_type": "markdown",
      "metadata": {
        "id": "_hc3nR6mlzm1"
      },
      "source": [
        "### 1.1 Data loader and data augmentation\n",
        "Normally there are two connected abstractions for data manipulation:\n",
        "- Dataset (`torch.utils.data.Dataset` and its subclasses from `torchvision.datasets`) - some black-box that keeps and preprocesses separate elements of dataset. In particular, single sample augmentations live on this level usually.\n",
        "- DataLoader (`torch.utils.data.DataLoader`) - structure that combines separate elements in batch.\n",
        "\n",
        "Let's deal with training dataset. Here are some simple augmentations that we are going to use in our experiments:"
      ]
    },
    {
      "cell_type": "code",
      "metadata": {
        "ExecuteTime": {
          "end_time": "2024-10-03T18:00:33.346492Z",
          "start_time": "2024-10-03T18:00:33.339427Z"
        },
        "id": "Dh4bE6tXlzm1"
      },
      "source": [
        "train_trainsforms = transforms.Compose(\n",
        "    [transforms.RandomHorizontalFlip(),\n",
        "     transforms.ToTensor(),\n",
        "     transforms.RandomRotation(5),\n",
        "     # YOUR CODE : examine torchvision.transforms package, find transformation for color jittering\n",
        "     # and add it with proper parameters.\n",
        "     transforms.ColorJitter()\n",
        "     # you may add any other transforms here\n",
        "    ]\n",
        ")"
      ],
      "outputs": [],
      "execution_count": 4
    },
    {
      "cell_type": "markdown",
      "source": [],
      "metadata": {
        "id": "8PlyVdFqJGxp"
      }
    },
    {
      "cell_type": "markdown",
      "metadata": {
        "id": "SlTGSaZRlzm1"
      },
      "source": [
        "For training dataset we will use custom dataset that will keep all training data in RAM. If your amount of RAM memory is low, you can use `torchvision.datasets.ImageFolder()` instead."
      ]
    },
    {
      "cell_type": "code",
      "metadata": {
        "cellId": "jrzsbgniodgtg1hif324k9",
        "id": "5vq5Cm0ADMoK",
        "ExecuteTime": {
          "end_time": "2024-10-03T18:01:14.298288Z",
          "start_time": "2024-10-03T18:00:34.657589Z"
        },
        "outputId": "a7693dbb-af96-49df-f47c-e9dddf4b2624",
        "colab": {
          "base_uri": "https://localhost:8080/"
        }
      },
      "source": [
        "#!L\n",
        "import tiny_img_dataset\n",
        "# you may use torchvision.datasets.ImageFolder() with the same parameters for loading train dataset\n",
        "train_dataset = tiny_img_dataset.TinyImagenetRAM('tiny-imagenet-200/train', transform=train_trainsforms)"
      ],
      "outputs": [
        {
          "output_type": "stream",
          "name": "stderr",
          "text": [
            "tiny-imagenet-200/train: 100%|██████████| 200/200 [01:27<00:00,  2.28it/s]\n"
          ]
        }
      ],
      "execution_count": 5
    },
    {
      "cell_type": "markdown",
      "metadata": {
        "id": "hRja_qPjlzm1"
      },
      "source": [
        "Now validation. Take a look at `tiny-imagenet-200/val` folder and compare it with `tiny-imagenet-200/train`. Looks different, right? So we can't use `TinyImagenetRAM` for loading the validation set. Let's write a custom dataset instead but with the same behavior like `TinyImagenetRAM`."
      ]
    },
    {
      "cell_type": "code",
      "metadata": {
        "ExecuteTime": {
          "end_time": "2024-10-03T18:09:09.953097Z",
          "start_time": "2024-10-03T18:09:09.941833Z"
        },
        "id": "ruuMDC6Rlzm1"
      },
      "source": [
        "from torch.utils.data import Dataset\n",
        "import os\n",
        "from PIL import Image\n",
        "\n",
        "class TinyImagenetValDataset(Dataset):\n",
        "    def __init__(self, root, transform=transforms.ToTensor()):\n",
        "        super().__init__()\n",
        "\n",
        "        self.root = root\n",
        "        with open(os.path.join(root, 'val_annotations.txt')) as f:\n",
        "            annotations = []\n",
        "            for line in f:\n",
        "                img_name, class_label = line.split('\\t')[:2]\n",
        "                annotations.append((img_name, class_label))\n",
        "\n",
        "        # 1. define self.classes - list of sorted class labels from annotations\n",
        "        # it should look like self.classes from \"TinyImagenetRAM\"\n",
        "        # YOUR CODE\n",
        "        self.classes = sorted(list(set([item[1] for item in annotations])))\n",
        "\n",
        "        assert len(self.classes) == 200, len(self.classes)\n",
        "        assert all(self.classes[i] < self.classes[i+1] for i in range(len(self.classes)-1)), 'classes should be ordered'\n",
        "        assert all(isinstance(elem, type(annotations[0][1])) for elem in self.classes), 'your just need to reuse class_labels'\n",
        "\n",
        "        # 2. self.class_to_idx - dict from class label to class index\n",
        "        self.class_to_idx = {item: index for index, item in enumerate(self.classes)}\n",
        "\n",
        "        self.transform = transform\n",
        "\n",
        "        self.images, self.targets = [], []\n",
        "        for img_name, class_name in tqdm.tqdm(annotations, desc=root):\n",
        "            img_name = os.path.join(root, 'images', img_name)\n",
        "            # 3. load image and store it in self.images (your may want to use tiny_img_dataset.read_rgb_image)\n",
        "            # store the class index in self.targets\n",
        "            # YOUR CODE\n",
        "            image = tiny_img_dataset.read_rgb_image(img_name)\n",
        "\n",
        "            assert image.shape == (64, 64, 3), image.shape\n",
        "            self.images.append(Image.fromarray(image))\n",
        "            self.targets.append(self.class_to_idx[class_name])\n",
        "\n",
        "    def __len__(self):\n",
        "        return len(self.images)\n",
        "\n",
        "    def __getitem__(self, index):\n",
        "        # take image and its target label from \"self.images\" and \"self.targets\",\n",
        "        # transform the image using self.transform and return the transformed image and its target label\n",
        "\n",
        "        # YOUR CODE\n",
        "        image = self.images[index]\n",
        "        image = self.transform(image)\n",
        "        target = self.targets[index]\n",
        "\n",
        "        return image, target"
      ],
      "outputs": [],
      "execution_count": 6
    },
    {
      "cell_type": "markdown",
      "metadata": {
        "id": "Tlg5cAzwlzm1"
      },
      "source": [
        "Let's finally load validation dataset. Normally you don't need to augment validation data."
      ]
    },
    {
      "cell_type": "code",
      "metadata": {
        "ExecuteTime": {
          "end_time": "2024-10-03T18:09:14.529576Z",
          "start_time": "2024-10-03T18:09:10.215564Z"
        },
        "id": "j8mWj_7Qlzm2",
        "outputId": "fddf0457-5c41-47da-abd7-33fdff0cc962",
        "colab": {
          "base_uri": "https://localhost:8080/"
        }
      },
      "source": [
        "val_dataset = TinyImagenetValDataset('tiny-imagenet-200/val', transform=transforms.ToTensor())\n",
        "\n",
        "assert all(train_dataset.classes[i] == val_dataset.classes[i] for i in range(200)), \\\n",
        "    'class order in train and val datasets should be the same'\n",
        "assert all(train_dataset.class_to_idx[elem] == val_dataset.class_to_idx[elem] for elem in train_dataset.classes), \\\n",
        "    'class indices should be the same'"
      ],
      "outputs": [
        {
          "output_type": "stream",
          "name": "stderr",
          "text": [
            "tiny-imagenet-200/val: 100%|██████████| 10000/10000 [00:09<00:00, 1084.67it/s]\n"
          ]
        }
      ],
      "execution_count": 7
    },
    {
      "cell_type": "markdown",
      "metadata": {
        "id": "1H_0aV96lzm2"
      },
      "source": [
        "For the most cases the default `DataLoader` will be good enough."
      ]
    },
    {
      "cell_type": "code",
      "metadata": {
        "cellId": "6md8io0fesfby4r9per3jb",
        "id": "tY6OUeOODMoN",
        "ExecuteTime": {
          "end_time": "2024-10-03T18:09:14.542138Z",
          "start_time": "2024-10-03T18:09:14.540192Z"
        },
        "colab": {
          "base_uri": "https://localhost:8080/"
        },
        "outputId": "b2ae5bc3-ddb1-4758-ac55-ccf9e7118cec"
      },
      "source": [
        "#!L\n",
        "batch_size = 64\n",
        "train_batch_gen = torch.utils.data.DataLoader(train_dataset,\n",
        "                                              batch_size=batch_size,\n",
        "                                              shuffle=True,\n",
        "                                              num_workers=4)"
      ],
      "outputs": [
        {
          "output_type": "stream",
          "name": "stderr",
          "text": [
            "/usr/local/lib/python3.10/dist-packages/torch/utils/data/dataloader.py:557: UserWarning: This DataLoader will create 4 worker processes in total. Our suggested max number of worker in current system is 2, which is smaller than what this DataLoader is going to create. Please be aware that excessive worker creation might get DataLoader running slow or even freeze, lower the worker number to avoid potential slowness/freeze if necessary.\n",
            "  warnings.warn(_create_warning_msg(\n"
          ]
        }
      ],
      "execution_count": 8
    },
    {
      "cell_type": "code",
      "metadata": {
        "cellId": "hsq566ut87vokpkiq68",
        "id": "HBgW-gzwDMoQ",
        "ExecuteTime": {
          "end_time": "2024-10-03T18:09:14.615303Z",
          "start_time": "2024-10-03T18:09:14.556015Z"
        }
      },
      "source": [
        "#!L\n",
        "val_batch_gen = torch.utils.data.DataLoader(val_dataset,\n",
        "                                            batch_size=batch_size,\n",
        "                                            shuffle=False,\n",
        "                                            num_workers=4)"
      ],
      "outputs": [],
      "execution_count": 9
    },
    {
      "cell_type": "markdown",
      "metadata": {
        "cellId": "fxzxgbl11g2dixss4t9nx",
        "id": "arxSyhBLDMoX"
      },
      "source": [
        "### 1.2 Neural network definition\n",
        "\n",
        "\"VGG-like network\" usually means that the network is a sequence of convolutions with MaxPooling for downsampling. Here is a table from the original paper [\"Very Deep Convolutional Networks for Large-Scale Image Recognition\"](https://arxiv.org/abs/1409.1556) that describes classical configurations of VGG networks (often referred as VGG-A, VGG-B and so on using column name as an identificator or as VGG16, VGG19 and so on using amount of layers as an identificator)\n",
        "![image.png](https://pytorch.org/assets/images/vgg.png)\n",
        "\n",
        "These network configurations were designed for ImageNet dataset. Since images in tiny-imagenet are 4x downsampled, we are going to design our own configuration by reducing: 1) amount of layers; 2) amount of neurons in layers; 3) amount of maxpooling layers which downsample feature maps\n",
        "\n",
        "Our network config will be [Conv(16), Conv(16), MaxPool] + [Conv(32), Conv(32), MaxPool] + [Conv(64), Conv(64), MaxPool] + [Conv(128), Conv(128)] + [GlobalAveragePooling] + [FC(200) + softmax]\n",
        "\n",
        "We use Conv(128) and GlobalAveragePooling instead of image flattening and FC layers for reducing the amount of parameters."
      ]
    },
    {
      "cell_type": "code",
      "metadata": {
        "cellId": "g5yf9z66xdpvq688ze2d8",
        "id": "7QF2hMVxDMoY",
        "ExecuteTime": {
          "end_time": "2024-10-03T18:09:14.622506Z",
          "start_time": "2024-10-03T18:09:14.620651Z"
        }
      },
      "source": [
        "#!L\n",
        "import torch, torch.nn as nn\n",
        "import torch.nn.functional as F\n",
        "from torch.autograd import Variable"
      ],
      "outputs": [],
      "execution_count": 10
    },
    {
      "cell_type": "markdown",
      "metadata": {
        "cellId": "6yn15hpuolcmryork2oqs",
        "id": "DJ6QKG3hDMoa"
      },
      "source": [
        "And one more thing. VGG was designed before BatchNormalization was introduced. Nowadays it will be stupid if we don't use batch normalization in our network. So let's define simple module containing convolution, batch norm and relu in it and build our network using this module. Here is also implementation of GlobalAveragePooling given for you as example of custom module."
      ]
    },
    {
      "cell_type": "code",
      "metadata": {
        "cellId": "f985tf2dvssqwmyc6w99d",
        "id": "u_mbfRXMDMob",
        "ExecuteTime": {
          "end_time": "2024-10-03T18:09:14.633366Z",
          "start_time": "2024-10-03T18:09:14.629164Z"
        }
      },
      "source": [
        "#!L\n",
        "class GlobalAveragePool(nn.Module):\n",
        "    def __init__(self, dim):\n",
        "        super().__init__()\n",
        "        self.dim = dim\n",
        "    def forward(self, x):\n",
        "        return torch.mean(x, dim=self.dim)\n",
        "\n",
        "\n",
        "class ConvBNRelu(nn.Module):\n",
        "    def __init__(self, in_channels, out_channels, kernel_size, stride=1, padding='same'):\n",
        "        super().__init__()\n",
        "\n",
        "        # YOUR CODE: define vars for convolution, batchnorm, relu\n",
        "\n",
        "        self.conv = nn.Conv2d(in_channels, out_channels, kernel_size, stride=stride, padding=padding)\n",
        "        self.bn = nn.BatchNorm2d(out_channels)\n",
        "        self.relu = nn.ReLU()\n",
        "\n",
        "    def forward(self, x):\n",
        "        # YOUR CODE: sequentially apply convolution, batchnorm, relu to 'x'\n",
        "        transforms = [self.conv, self.bn, self.relu]\n",
        "        for transform in transforms:\n",
        "            x = transform(x)\n",
        "        return x\n",
        "\n",
        "\n",
        "def create_vgg_like_network(config=None):\n",
        "    \"\"\"\n",
        "    Creates VGG like network according to config\n",
        "    \"\"\"\n",
        "    model = nn.Sequential()\n",
        "\n",
        "    default_config = [[16,16], [32, 32], [64, 64], [128, 128]]\n",
        "    config = config or default_config\n",
        "\n",
        "    in_channels = 3\n",
        "    for block_index in range(len(config)):\n",
        "        for layer_index_in_block in range(len(config[block_index])):\n",
        "            out_channels = config[block_index][layer_index_in_block]\n",
        "\n",
        "            # YOUR CODE: add ConvBNRelu module to model\n",
        "            model.add_module(f'ConvBNRelu_{block_index}_{layer_index_in_block}', ConvBNRelu(in_channels, out_channels, kernel_size=3, stride=1, padding=1))\n",
        "            in_channels = out_channels\n",
        "\n",
        "        if block_index != len(config) - 1:\n",
        "            model.add_module(f'mp_{block_index}', nn.MaxPool2d(3, stride=2))\n",
        "\n",
        "    model.add_module('pool', GlobalAveragePool(dim=(2,3)))\n",
        "    model.add_module('logits', nn.Linear(out_channels, 200))\n",
        "    return model"
      ],
      "outputs": [],
      "execution_count": 11
    },
    {
      "cell_type": "markdown",
      "metadata": {
        "id": "YCt01Yiulzm2"
      },
      "source": [
        "Here are our model created!"
      ]
    },
    {
      "cell_type": "code",
      "metadata": {
        "ExecuteTime": {
          "end_time": "2024-10-03T18:09:14.646009Z",
          "start_time": "2024-10-03T18:09:14.640190Z"
        },
        "id": "GeU7K06Tlzm2"
      },
      "source": [
        "model = create_vgg_like_network()\n",
        "model = model.to(device)"
      ],
      "outputs": [],
      "execution_count": 12
    },
    {
      "cell_type": "markdown",
      "metadata": {
        "cellId": "7dh3d8xmkeinv4kx0g079",
        "id": "DvugZZbeDMoe"
      },
      "source": [
        "### 1.3 Loss function definition\n",
        "\n",
        "Usually cross-entropy (negative log-likelihood) is used as loss function for image classification."
      ]
    },
    {
      "cell_type": "code",
      "metadata": {
        "cellId": "3y7p7o6s7vecpf3kpktj8v",
        "id": "cGEhRWMYDMof",
        "ExecuteTime": {
          "end_time": "2024-10-03T18:09:14.654382Z",
          "start_time": "2024-10-03T18:09:14.652241Z"
        }
      },
      "source": [
        "#!L\n",
        "def compute_loss(predictions, gt):\n",
        "    return F.cross_entropy(predictions, gt).mean()"
      ],
      "outputs": [],
      "execution_count": 13
    },
    {
      "cell_type": "markdown",
      "metadata": {
        "id": "KANlcYhglzm2"
      },
      "source": [
        "### 1.4 Optimizer and training schedule"
      ]
    },
    {
      "cell_type": "markdown",
      "metadata": {
        "id": "6tx6mfnQlzm2"
      },
      "source": [
        "Let's train our network using Adam with default parameters.\n",
        "\n",
        "For training by `torch.optim.SGD` you usually have to define training schedule - a way how to decrease learning rate during training. But since in adam all the gradients are scaled on their second momentum, the effect of a good training schedule is not so critical for training as in SGD. So we are going to act like lazy data scientists and will not decrease learning rate at all. But you may play with scheduling using for example `torch.optim.lr_scheduler.ExponentialLR`, see the [documentation](https://pytorch.org/docs/stable/optim.html#how-to-adjust-learning-rate) with explanation how to use it."
      ]
    },
    {
      "cell_type": "code",
      "metadata": {
        "ExecuteTime": {
          "end_time": "2024-10-03T18:09:14.940505Z",
          "start_time": "2024-10-03T18:09:14.937545Z"
        },
        "id": "BSt5tobVlzm2"
      },
      "source": [
        "opt = torch.optim.Adam(model.parameters())"
      ],
      "outputs": [],
      "execution_count": 14
    },
    {
      "cell_type": "markdown",
      "metadata": {
        "id": "JfaPcnfglzm2"
      },
      "source": [
        "### 1.5 Training loop\n",
        "\n",
        "Let's combine the previously defined things together."
      ]
    },
    {
      "cell_type": "code",
      "metadata": {
        "cellId": "w8rht9ygh7uns89ypozln",
        "id": "sEy0LiHxDMol",
        "scrolled": true,
        "ExecuteTime": {
          "end_time": "2024-10-03T18:09:15.746270Z",
          "start_time": "2024-10-03T18:09:15.742141Z"
        }
      },
      "source": [
        "import numpy as np\n",
        "import time\n",
        "\n",
        "\n",
        "def eval_model(model, data_generator):\n",
        "    accuracy = []\n",
        "    model.train(False) # disable dropout / use averages for batch_norm\n",
        "    with torch.no_grad():\n",
        "        for X_batch, y_batch in data_generator:\n",
        "            X_batch = X_batch.to(device)\n",
        "            logits = model(X_batch)\n",
        "            y_pred = logits.max(1)[1].data\n",
        "            accuracy.append(np.mean((y_batch.cpu() == y_pred.cpu()).numpy()))\n",
        "    return np.mean(accuracy)\n",
        "\n",
        "\n",
        "def train_model(model, optimizer, train_data_generator):\n",
        "    train_loss = []\n",
        "    model.train(True) # enable dropout / batch_norm training behavior\n",
        "    for (X_batch, y_batch) in tqdm.tqdm(train_data_generator):\n",
        "        opt.zero_grad()\n",
        "\n",
        "        # forward\n",
        "        # YOUR CODE: move X_batch, y_batch to 'device', compute model outputs on X_batch,\n",
        "        # run `compute_loss()` function\n",
        "        X_batch = X_batch.to(device)\n",
        "        y_batch = y_batch.to(device)\n",
        "        predictions = model(X_batch)\n",
        "        loss = compute_loss(predictions, y_batch)\n",
        "\n",
        "        # backward\n",
        "        loss.backward()\n",
        "        optimizer.step()\n",
        "\n",
        "        # metrics\n",
        "        train_loss.append(loss.cpu().data.numpy())\n",
        "    return np.mean(train_loss)\n",
        "\n",
        "\n",
        "def train_loop(model, optimizer, train_data_generator, val_data_generator, num_epochs):\n",
        "    \"\"\"\n",
        "    num_epochs - total amount of full passes over training data\n",
        "    \"\"\"\n",
        "    for epoch in range(num_epochs):\n",
        "        start_time = time.time()\n",
        "\n",
        "        train_loss = train_model(model, optimizer, train_data_generator)\n",
        "\n",
        "        val_accuracy = eval_model(model, val_data_generator)\n",
        "\n",
        "        # Then we print the results for this epoch:\n",
        "        print(\"Epoch {} of {} took {:.3f}s\".format(epoch + 1, num_epochs, time.time() - start_time))\n",
        "        print(\"  training loss (in-iteration): \\t{:.6f}\".format(train_loss))\n",
        "        print(\"  validation accuracy: \\t\\t\\t{:.2f} %\".format(val_accuracy * 100))"
      ],
      "outputs": [],
      "execution_count": 17
    },
    {
      "cell_type": "markdown",
      "metadata": {
        "id": "QL9lHV_clzm2"
      },
      "source": [
        "### 1.6 Training\n",
        "\n",
        "All the preparation is done, time to run the training!\n",
        "\n",
        "Normally after training for 30 epochs you should get a neural network that predicts labels with >40% accuracy here."
      ]
    },
    {
      "cell_type": "code",
      "metadata": {
        "scrolled": true,
        "jupyter": {
          "is_executing": true
        },
        "ExecuteTime": {
          "start_time": "2024-10-03T18:09:16.924284Z"
        },
        "id": "NyCOqrm8lzm2",
        "outputId": "b61578f0-2d96-4497-d8da-19f57c7968d3",
        "colab": {
          "base_uri": "https://localhost:8080/"
        }
      },
      "source": [
        "train_loop(model, opt, train_batch_gen, val_batch_gen, num_epochs=30)"
      ],
      "outputs": [
        {
          "output_type": "stream",
          "name": "stderr",
          "text": [
            "100%|██████████| 1563/1563 [02:02<00:00, 12.77it/s]\n"
          ]
        },
        {
          "output_type": "stream",
          "name": "stdout",
          "text": [
            "Epoch 1 of 30 took 125.904s\n",
            "  training loss (in-iteration): \t4.240826\n",
            "  validation accuracy: \t\t\t12.86 %\n"
          ]
        },
        {
          "output_type": "stream",
          "name": "stderr",
          "text": [
            "100%|██████████| 1563/1563 [01:55<00:00, 13.56it/s]\n"
          ]
        },
        {
          "output_type": "stream",
          "name": "stdout",
          "text": [
            "Epoch 2 of 30 took 118.748s\n",
            "  training loss (in-iteration): \t3.541786\n",
            "  validation accuracy: \t\t\t16.99 %\n"
          ]
        },
        {
          "output_type": "stream",
          "name": "stderr",
          "text": [
            "100%|██████████| 1563/1563 [01:56<00:00, 13.40it/s]\n"
          ]
        },
        {
          "output_type": "stream",
          "name": "stdout",
          "text": [
            "Epoch 3 of 30 took 120.118s\n",
            "  training loss (in-iteration): \t3.228161\n",
            "  validation accuracy: \t\t\t24.98 %\n"
          ]
        },
        {
          "output_type": "stream",
          "name": "stderr",
          "text": [
            "100%|██████████| 1563/1563 [01:51<00:00, 14.03it/s]\n"
          ]
        },
        {
          "output_type": "stream",
          "name": "stdout",
          "text": [
            "Epoch 4 of 30 took 114.744s\n",
            "  training loss (in-iteration): \t3.025041\n",
            "  validation accuracy: \t\t\t28.48 %\n"
          ]
        },
        {
          "output_type": "stream",
          "name": "stderr",
          "text": [
            "100%|██████████| 1563/1563 [02:01<00:00, 12.88it/s]\n"
          ]
        },
        {
          "output_type": "stream",
          "name": "stdout",
          "text": [
            "Epoch 5 of 30 took 129.140s\n",
            "  training loss (in-iteration): \t2.872708\n",
            "  validation accuracy: \t\t\t29.92 %\n"
          ]
        },
        {
          "output_type": "stream",
          "name": "stderr",
          "text": [
            "100%|██████████| 1563/1563 [01:55<00:00, 13.50it/s]\n"
          ]
        },
        {
          "output_type": "stream",
          "name": "stdout",
          "text": [
            "Epoch 6 of 30 took 119.231s\n",
            "  training loss (in-iteration): \t2.756686\n",
            "  validation accuracy: \t\t\t32.32 %\n"
          ]
        },
        {
          "output_type": "stream",
          "name": "stderr",
          "text": [
            "100%|██████████| 1563/1563 [01:59<00:00, 13.04it/s]\n"
          ]
        },
        {
          "output_type": "stream",
          "name": "stdout",
          "text": [
            "Epoch 7 of 30 took 123.371s\n",
            "  training loss (in-iteration): \t2.663170\n",
            "  validation accuracy: \t\t\t34.12 %\n"
          ]
        },
        {
          "output_type": "stream",
          "name": "stderr",
          "text": [
            "100%|██████████| 1563/1563 [01:55<00:00, 13.56it/s]\n"
          ]
        },
        {
          "output_type": "stream",
          "name": "stdout",
          "text": [
            "Epoch 8 of 30 took 118.753s\n",
            "  training loss (in-iteration): \t2.583548\n",
            "  validation accuracy: \t\t\t34.66 %\n"
          ]
        },
        {
          "output_type": "stream",
          "name": "stderr",
          "text": [
            "100%|██████████| 1563/1563 [01:57<00:00, 13.32it/s]\n"
          ]
        },
        {
          "output_type": "stream",
          "name": "stdout",
          "text": [
            "Epoch 9 of 30 took 120.797s\n",
            "  training loss (in-iteration): \t2.518687\n",
            "  validation accuracy: \t\t\t36.12 %\n"
          ]
        },
        {
          "output_type": "stream",
          "name": "stderr",
          "text": [
            "100%|██████████| 1563/1563 [01:56<00:00, 13.45it/s]\n"
          ]
        },
        {
          "output_type": "stream",
          "name": "stdout",
          "text": [
            "Epoch 10 of 30 took 119.632s\n",
            "  training loss (in-iteration): \t2.460096\n",
            "  validation accuracy: \t\t\t36.02 %\n"
          ]
        },
        {
          "output_type": "stream",
          "name": "stderr",
          "text": [
            "100%|██████████| 1563/1563 [01:58<00:00, 13.15it/s]\n"
          ]
        },
        {
          "output_type": "stream",
          "name": "stdout",
          "text": [
            "Epoch 11 of 30 took 122.375s\n",
            "  training loss (in-iteration): \t2.406029\n",
            "  validation accuracy: \t\t\t39.07 %\n"
          ]
        },
        {
          "output_type": "stream",
          "name": "stderr",
          "text": [
            "100%|██████████| 1563/1563 [01:57<00:00, 13.31it/s]\n"
          ]
        },
        {
          "output_type": "stream",
          "name": "stdout",
          "text": [
            "Epoch 12 of 30 took 120.941s\n",
            "  training loss (in-iteration): \t2.360986\n",
            "  validation accuracy: \t\t\t38.86 %\n"
          ]
        },
        {
          "output_type": "stream",
          "name": "stderr",
          "text": [
            "100%|██████████| 1563/1563 [01:56<00:00, 13.45it/s]\n"
          ]
        },
        {
          "output_type": "stream",
          "name": "stdout",
          "text": [
            "Epoch 13 of 30 took 119.618s\n",
            "  training loss (in-iteration): \t2.317257\n",
            "  validation accuracy: \t\t\t39.44 %\n"
          ]
        },
        {
          "output_type": "stream",
          "name": "stderr",
          "text": [
            "100%|██████████| 1563/1563 [02:01<00:00, 12.82it/s]\n"
          ]
        },
        {
          "output_type": "stream",
          "name": "stdout",
          "text": [
            "Epoch 14 of 30 took 126.126s\n",
            "  training loss (in-iteration): \t2.275007\n",
            "  validation accuracy: \t\t\t40.03 %\n"
          ]
        },
        {
          "output_type": "stream",
          "name": "stderr",
          "text": [
            "100%|██████████| 1563/1563 [02:00<00:00, 13.02it/s]\n"
          ]
        },
        {
          "output_type": "stream",
          "name": "stdout",
          "text": [
            "Epoch 15 of 30 took 125.170s\n",
            "  training loss (in-iteration): \t2.238906\n",
            "  validation accuracy: \t\t\t39.99 %\n"
          ]
        },
        {
          "output_type": "stream",
          "name": "stderr",
          "text": [
            "100%|██████████| 1563/1563 [01:55<00:00, 13.54it/s]\n"
          ]
        },
        {
          "output_type": "stream",
          "name": "stdout",
          "text": [
            "Epoch 16 of 30 took 119.282s\n",
            "  training loss (in-iteration): \t2.207943\n",
            "  validation accuracy: \t\t\t41.17 %\n"
          ]
        },
        {
          "output_type": "stream",
          "name": "stderr",
          "text": [
            "100%|██████████| 1563/1563 [01:59<00:00, 13.06it/s]\n"
          ]
        },
        {
          "output_type": "stream",
          "name": "stdout",
          "text": [
            "Epoch 17 of 30 took 123.221s\n",
            "  training loss (in-iteration): \t2.180149\n",
            "  validation accuracy: \t\t\t40.49 %\n"
          ]
        },
        {
          "output_type": "stream",
          "name": "stderr",
          "text": [
            "100%|██████████| 1563/1563 [01:57<00:00, 13.36it/s]\n"
          ]
        },
        {
          "output_type": "stream",
          "name": "stdout",
          "text": [
            "Epoch 18 of 30 took 120.957s\n",
            "  training loss (in-iteration): \t2.151963\n",
            "  validation accuracy: \t\t\t41.61 %\n"
          ]
        },
        {
          "output_type": "stream",
          "name": "stderr",
          "text": [
            "100%|██████████| 1563/1563 [01:57<00:00, 13.33it/s]\n"
          ]
        },
        {
          "output_type": "stream",
          "name": "stdout",
          "text": [
            "Epoch 19 of 30 took 120.841s\n",
            "  training loss (in-iteration): \t2.125157\n",
            "  validation accuracy: \t\t\t41.90 %\n"
          ]
        },
        {
          "output_type": "stream",
          "name": "stderr",
          "text": [
            "100%|██████████| 1563/1563 [01:56<00:00, 13.36it/s]\n"
          ]
        },
        {
          "output_type": "stream",
          "name": "stdout",
          "text": [
            "Epoch 20 of 30 took 120.498s\n",
            "  training loss (in-iteration): \t2.098013\n",
            "  validation accuracy: \t\t\t42.09 %\n"
          ]
        },
        {
          "output_type": "stream",
          "name": "stderr",
          "text": [
            "100%|██████████| 1563/1563 [01:56<00:00, 13.42it/s]\n"
          ]
        },
        {
          "output_type": "stream",
          "name": "stdout",
          "text": [
            "Epoch 21 of 30 took 119.971s\n",
            "  training loss (in-iteration): \t2.077026\n",
            "  validation accuracy: \t\t\t42.59 %\n"
          ]
        },
        {
          "output_type": "stream",
          "name": "stderr",
          "text": [
            "100%|██████████| 1563/1563 [01:58<00:00, 13.17it/s]\n"
          ]
        },
        {
          "output_type": "stream",
          "name": "stdout",
          "text": [
            "Epoch 22 of 30 took 122.329s\n",
            "  training loss (in-iteration): \t2.050968\n",
            "  validation accuracy: \t\t\t42.13 %\n"
          ]
        },
        {
          "output_type": "stream",
          "name": "stderr",
          "text": [
            "100%|██████████| 1563/1563 [01:54<00:00, 13.64it/s]\n"
          ]
        },
        {
          "output_type": "stream",
          "name": "stdout",
          "text": [
            "Epoch 23 of 30 took 118.118s\n",
            "  training loss (in-iteration): \t2.032193\n",
            "  validation accuracy: \t\t\t41.97 %\n"
          ]
        },
        {
          "output_type": "stream",
          "name": "stderr",
          "text": [
            "100%|██████████| 1563/1563 [01:54<00:00, 13.61it/s]\n"
          ]
        },
        {
          "output_type": "stream",
          "name": "stdout",
          "text": [
            "Epoch 24 of 30 took 118.307s\n",
            "  training loss (in-iteration): \t2.009758\n",
            "  validation accuracy: \t\t\t42.86 %\n"
          ]
        },
        {
          "output_type": "stream",
          "name": "stderr",
          "text": [
            "100%|██████████| 1563/1563 [01:57<00:00, 13.34it/s]\n"
          ]
        },
        {
          "output_type": "stream",
          "name": "stdout",
          "text": [
            "Epoch 25 of 30 took 120.778s\n",
            "  training loss (in-iteration): \t1.990312\n",
            "  validation accuracy: \t\t\t43.35 %\n"
          ]
        },
        {
          "output_type": "stream",
          "name": "stderr",
          "text": [
            "100%|██████████| 1563/1563 [01:56<00:00, 13.42it/s]\n"
          ]
        },
        {
          "output_type": "stream",
          "name": "stdout",
          "text": [
            "Epoch 26 of 30 took 120.071s\n",
            "  training loss (in-iteration): \t1.970974\n",
            "  validation accuracy: \t\t\t43.32 %\n"
          ]
        },
        {
          "output_type": "stream",
          "name": "stderr",
          "text": [
            "100%|██████████| 1563/1563 [02:01<00:00, 12.92it/s]\n"
          ]
        },
        {
          "output_type": "stream",
          "name": "stdout",
          "text": [
            "Epoch 27 of 30 took 124.556s\n",
            "  training loss (in-iteration): \t1.957539\n",
            "  validation accuracy: \t\t\t43.51 %\n"
          ]
        },
        {
          "output_type": "stream",
          "name": "stderr",
          "text": [
            "100%|██████████| 1563/1563 [01:57<00:00, 13.27it/s]\n"
          ]
        },
        {
          "output_type": "stream",
          "name": "stdout",
          "text": [
            "Epoch 28 of 30 took 121.339s\n",
            "  training loss (in-iteration): \t1.933782\n",
            "  validation accuracy: \t\t\t43.54 %\n"
          ]
        },
        {
          "output_type": "stream",
          "name": "stderr",
          "text": [
            "100%|██████████| 1563/1563 [01:58<00:00, 13.22it/s]\n"
          ]
        },
        {
          "output_type": "stream",
          "name": "stdout",
          "text": [
            "Epoch 29 of 30 took 121.892s\n",
            "  training loss (in-iteration): \t1.921267\n",
            "  validation accuracy: \t\t\t43.45 %\n"
          ]
        },
        {
          "output_type": "stream",
          "name": "stderr",
          "text": [
            "100%|██████████| 1563/1563 [02:01<00:00, 12.86it/s]\n"
          ]
        },
        {
          "output_type": "stream",
          "name": "stdout",
          "text": [
            "Epoch 30 of 30 took 125.090s\n",
            "  training loss (in-iteration): \t1.905580\n",
            "  validation accuracy: \t\t\t41.96 %\n"
          ]
        }
      ],
      "execution_count": null
    },
    {
      "cell_type": "markdown",
      "metadata": {
        "id": "8sVmxjVzlzm2"
      },
      "source": [
        "## Part 2. Say Hello to ResNets"
      ]
    },
    {
      "cell_type": "markdown",
      "metadata": {
        "id": "r2B2kfzdlzm3"
      },
      "source": [
        "In this part you need to redefine your model, all the rest will be the same. As with VGG, we are going to define ResNet-like model, not a classic architecture, designed for ImageNet classification.\n",
        "\n",
        "\"ResNet-like\" usually means that your network consists of \"residual blocks\". There are two types of blocks that widely used: with two convolutions and with three convolutions:\n",
        "![resnet_blocks](https://miro.medium.com/max/613/1*zS2ChIMwAqC5DQbL5yD9iQ.png)\n",
        "\n",
        "In practice, blocks with three convolutions are used often since they allows to build more deep network with less parameters. Blocks with two convolutions are usually used for comparisson with non-residual networks, espatially with VGG and AlexNet.\n",
        "\n",
        "Here is a table from the paper \"[Deep Residual Learning for Image Recognition](https://arxiv.org/pdf/1512.03385.pdf)\" that describes classical configurations of ResNet networks. Usually they are referred as ResNet-18, ResNet-34 and so on using amount of layers as identificator. Note, that networks starting from ResNet-50 are based on 3-convolutional blocks. In fact ResNet-18 and ResNet-34 were introduces just for comparison with VGG, while ResNet-50 is what usually used in practice as a good baseline.\n",
        "\n",
        "![img](https://miro.medium.com/max/2400/1*aq0q7gCvuNUqnMHh4cpnIw.png)\n",
        "\n",
        "As with VGG, we are going to build our own config for network. Let's use 2-convolutional blocks for comparisson with vgg and take network like [Conv7x7 - 32] + [conv32-block, conv32-block] + [conv64-block, conv64-block] + [conv128-block, conv128-block] + [GlobalAveragePooling] + fc200 + softmax\n",
        "\n",
        "Comparing to ResNet18, we decreased the amount of filters and removed max-pooling in the beggining and the last set of convolutions for keeping meaningful spatial resolution."
      ]
    },
    {
      "cell_type": "code",
      "execution_count": 15,
      "metadata": {
        "id": "sOEjucr1lzm3"
      },
      "outputs": [],
      "source": [
        "class ResNetBlock2(nn.Module):\n",
        "    \"\"\"\n",
        "    Module implements the following function:\n",
        "\n",
        "    output = relu(F(input) + Residual(input)), where:\n",
        "        Residual(x) = Conv + bn + relu + conv + bn\n",
        "        F(x) = x                                        , if in_channels == out_channels and stride == 1\n",
        "             = Conv1x1(in_channel, out_channel, stride) , otherwise\n",
        "    \"\"\"\n",
        "    def __init__(self, in_channels, out_channels, kernel_size=3, stride=1, padding='same'):\n",
        "        super().__init__()\n",
        "        # YOUR CODE: define conv1, bn1, relu1, conv2, bn2 for residual branch computation\n",
        "        self.conv1 = nn.Conv2d(in_channels, out_channels, kernel_size, stride=stride, padding=padding)\n",
        "        self.bn1 = nn.BatchNorm2d(out_channels)\n",
        "        self.relu1 = nn.ReLU()\n",
        "\n",
        "        self.conv2 = nn.Conv2d(out_channels, out_channels, kernel_size=1, stride=1, padding=0)\n",
        "        self.bn2 = nn.BatchNorm2d(out_channels)\n",
        "\n",
        "        self.relu2 = nn.ReLU()\n",
        "\n",
        "        self.conv3 = None  # conv for main branch adopatation\n",
        "        if in_channels != out_channels or stride != 1:\n",
        "            self.conv3 = nn.Conv2d(in_channels, out_channels, 1, stride, padding=0)\n",
        "\n",
        "    def forward(self, x):\n",
        "        # YOUR CODE: compute residual branch,\n",
        "        # DON'T OVERRIDE 'x' as you will need it\n",
        "\n",
        "        steps = [self.conv1, self.bn1, self.conv2, self.bn2]\n",
        "\n",
        "        residual = torch.clone(x)\n",
        "        for step in steps:\n",
        "            residual = step(residual)\n",
        "\n",
        "        if self.conv3 is not None:\n",
        "            x = self.conv3(x)\n",
        "\n",
        "        result = self.relu2(residual + x)\n",
        "        return result\n",
        "\n",
        "def create_resnet_like_network():\n",
        "    model = nn.Sequential()\n",
        "\n",
        "    config = [[32, 32], [64, 64], [128, 128]]\n",
        "    model.add_module('init_conv', ConvBNRelu(3, 32, kernel_size=7, stride=2, padding=3))\n",
        "\n",
        "    in_channels = 32\n",
        "    for i in range(len(config)):\n",
        "        for j in range(len(config[i])):\n",
        "            out_channels = config[i][j]\n",
        "            stride = 2 if i != 0 and j == 0 else 1\n",
        "            # YOUR CODE: add ResNetBlock2 module to model\n",
        "            model.add_module(f'ResNetBlock2_{i}_{j}', ResNetBlock2(in_channels, out_channels, kernel_size=7, stride=stride, padding=3))\n",
        "            in_channels = out_channels\n",
        "    model.add_module('pool', GlobalAveragePool((2,3)))\n",
        "    model.add_module('logits', nn.Linear(out_channels, 200))\n",
        "    return model"
      ]
    },
    {
      "cell_type": "markdown",
      "metadata": {
        "id": "Fc_5IAGflzm3"
      },
      "source": [
        "Let's train our network then. Normally after training for 30 epochs you should get a neural network that predicts labels with >40% accuracy and gives near +1% profit to vgg-like network from the previous experiment."
      ]
    },
    {
      "cell_type": "code",
      "execution_count": null,
      "metadata": {
        "id": "pUU68ixtlzm3",
        "outputId": "c35d744a-db81-4095-9945-678bb82c18c2",
        "colab": {
          "base_uri": "https://localhost:8080/"
        }
      },
      "outputs": [
        {
          "output_type": "stream",
          "name": "stderr",
          "text": [
            "\r  0%|          | 0/1563 [00:00<?, ?it/s]/usr/local/lib/python3.10/dist-packages/torch/utils/data/dataloader.py:557: UserWarning: This DataLoader will create 12 worker processes in total. Our suggested max number of worker in current system is 2, which is smaller than what this DataLoader is going to create. Please be aware that excessive worker creation might get DataLoader running slow or even freeze, lower the worker number to avoid potential slowness/freeze if necessary.\n",
            "  warnings.warn(_create_warning_msg(\n",
            "100%|██████████| 1563/1563 [01:49<00:00, 14.22it/s]\n"
          ]
        },
        {
          "output_type": "stream",
          "name": "stdout",
          "text": [
            "Epoch 1 of 30 took 113.293s\n",
            "  training loss (in-iteration): \t4.586402\n",
            "  validation accuracy: \t\t\t8.71 %\n"
          ]
        },
        {
          "output_type": "stream",
          "name": "stderr",
          "text": [
            "100%|██████████| 1563/1563 [01:49<00:00, 14.25it/s]\n"
          ]
        },
        {
          "output_type": "stream",
          "name": "stdout",
          "text": [
            "Epoch 2 of 30 took 114.502s\n",
            "  training loss (in-iteration): \t3.830731\n",
            "  validation accuracy: \t\t\t13.74 %\n"
          ]
        },
        {
          "output_type": "stream",
          "name": "stderr",
          "text": [
            "100%|██████████| 1563/1563 [01:49<00:00, 14.28it/s]\n"
          ]
        },
        {
          "output_type": "stream",
          "name": "stdout",
          "text": [
            "Epoch 3 of 30 took 112.836s\n",
            "  training loss (in-iteration): \t3.454110\n",
            "  validation accuracy: \t\t\t22.62 %\n"
          ]
        },
        {
          "output_type": "stream",
          "name": "stderr",
          "text": [
            "100%|██████████| 1563/1563 [01:49<00:00, 14.21it/s]\n"
          ]
        },
        {
          "output_type": "stream",
          "name": "stdout",
          "text": [
            "Epoch 4 of 30 took 113.298s\n",
            "  training loss (in-iteration): \t3.228055\n",
            "  validation accuracy: \t\t\t25.67 %\n"
          ]
        },
        {
          "output_type": "stream",
          "name": "stderr",
          "text": [
            "100%|██████████| 1563/1563 [01:49<00:00, 14.25it/s]\n"
          ]
        },
        {
          "output_type": "stream",
          "name": "stdout",
          "text": [
            "Epoch 5 of 30 took 113.782s\n",
            "  training loss (in-iteration): \t3.062444\n",
            "  validation accuracy: \t\t\t19.96 %\n"
          ]
        },
        {
          "output_type": "stream",
          "name": "stderr",
          "text": [
            "100%|██████████| 1563/1563 [01:46<00:00, 14.70it/s]\n"
          ]
        },
        {
          "output_type": "stream",
          "name": "stdout",
          "text": [
            "Epoch 6 of 30 took 109.797s\n",
            "  training loss (in-iteration): \t2.928409\n",
            "  validation accuracy: \t\t\t30.25 %\n"
          ]
        },
        {
          "output_type": "stream",
          "name": "stderr",
          "text": [
            "100%|██████████| 1563/1563 [01:54<00:00, 13.69it/s]\n"
          ]
        },
        {
          "output_type": "stream",
          "name": "stdout",
          "text": [
            "Epoch 7 of 30 took 117.730s\n",
            "  training loss (in-iteration): \t2.823127\n",
            "  validation accuracy: \t\t\t27.28 %\n"
          ]
        },
        {
          "output_type": "stream",
          "name": "stderr",
          "text": [
            "100%|██████████| 1563/1563 [01:48<00:00, 14.36it/s]\n"
          ]
        },
        {
          "output_type": "stream",
          "name": "stdout",
          "text": [
            "Epoch 8 of 30 took 112.189s\n",
            "  training loss (in-iteration): \t2.737454\n",
            "  validation accuracy: \t\t\t32.45 %\n"
          ]
        },
        {
          "output_type": "stream",
          "name": "stderr",
          "text": [
            "100%|██████████| 1563/1563 [01:52<00:00, 13.92it/s]\n"
          ]
        },
        {
          "output_type": "stream",
          "name": "stdout",
          "text": [
            "Epoch 9 of 30 took 117.196s\n",
            "  training loss (in-iteration): \t2.651378\n",
            "  validation accuracy: \t\t\t32.70 %\n"
          ]
        },
        {
          "output_type": "stream",
          "name": "stderr",
          "text": [
            "100%|██████████| 1563/1563 [01:46<00:00, 14.64it/s]\n"
          ]
        },
        {
          "output_type": "stream",
          "name": "stdout",
          "text": [
            "Epoch 10 of 30 took 110.359s\n",
            "  training loss (in-iteration): \t2.584414\n",
            "  validation accuracy: \t\t\t26.56 %\n"
          ]
        },
        {
          "output_type": "stream",
          "name": "stderr",
          "text": [
            "100%|██████████| 1563/1563 [01:54<00:00, 13.70it/s]\n"
          ]
        },
        {
          "output_type": "stream",
          "name": "stdout",
          "text": [
            "Epoch 11 of 30 took 117.447s\n",
            "  training loss (in-iteration): \t2.522122\n",
            "  validation accuracy: \t\t\t32.36 %\n"
          ]
        },
        {
          "output_type": "stream",
          "name": "stderr",
          "text": [
            "100%|██████████| 1563/1563 [01:47<00:00, 14.56it/s]\n"
          ]
        },
        {
          "output_type": "stream",
          "name": "stdout",
          "text": [
            "Epoch 12 of 30 took 111.105s\n",
            "  training loss (in-iteration): \t2.462462\n",
            "  validation accuracy: \t\t\t31.50 %\n"
          ]
        },
        {
          "output_type": "stream",
          "name": "stderr",
          "text": [
            "100%|██████████| 1563/1563 [01:52<00:00, 13.84it/s]\n"
          ]
        },
        {
          "output_type": "stream",
          "name": "stdout",
          "text": [
            "Epoch 13 of 30 took 117.052s\n",
            "  training loss (in-iteration): \t2.414047\n",
            "  validation accuracy: \t\t\t36.75 %\n"
          ]
        },
        {
          "output_type": "stream",
          "name": "stderr",
          "text": [
            "100%|██████████| 1563/1563 [01:49<00:00, 14.27it/s]\n"
          ]
        },
        {
          "output_type": "stream",
          "name": "stdout",
          "text": [
            "Epoch 14 of 30 took 114.030s\n",
            "  training loss (in-iteration): \t2.365214\n",
            "  validation accuracy: \t\t\t37.56 %\n"
          ]
        },
        {
          "output_type": "stream",
          "name": "stderr",
          "text": [
            "100%|██████████| 1563/1563 [01:48<00:00, 14.47it/s]\n"
          ]
        },
        {
          "output_type": "stream",
          "name": "stdout",
          "text": [
            "Epoch 15 of 30 took 111.408s\n",
            "  training loss (in-iteration): \t2.316552\n",
            "  validation accuracy: \t\t\t36.46 %\n"
          ]
        },
        {
          "output_type": "stream",
          "name": "stderr",
          "text": [
            "100%|██████████| 1563/1563 [01:55<00:00, 13.59it/s]\n"
          ]
        },
        {
          "output_type": "stream",
          "name": "stdout",
          "text": [
            "Epoch 16 of 30 took 118.394s\n",
            "  training loss (in-iteration): \t2.279775\n",
            "  validation accuracy: \t\t\t37.09 %\n"
          ]
        },
        {
          "output_type": "stream",
          "name": "stderr",
          "text": [
            "100%|██████████| 1563/1563 [01:47<00:00, 14.60it/s]\n"
          ]
        },
        {
          "output_type": "stream",
          "name": "stdout",
          "text": [
            "Epoch 17 of 30 took 111.018s\n",
            "  training loss (in-iteration): \t2.236018\n",
            "  validation accuracy: \t\t\t39.80 %\n"
          ]
        },
        {
          "output_type": "stream",
          "name": "stderr",
          "text": [
            "100%|██████████| 1563/1563 [01:52<00:00, 13.95it/s]\n"
          ]
        },
        {
          "output_type": "stream",
          "name": "stdout",
          "text": [
            "Epoch 18 of 30 took 115.943s\n",
            "  training loss (in-iteration): \t2.197029\n",
            "  validation accuracy: \t\t\t39.61 %\n"
          ]
        },
        {
          "output_type": "stream",
          "name": "stderr",
          "text": [
            "100%|██████████| 1563/1563 [01:46<00:00, 14.65it/s]\n"
          ]
        },
        {
          "output_type": "stream",
          "name": "stdout",
          "text": [
            "Epoch 19 of 30 took 110.076s\n",
            "  training loss (in-iteration): \t2.158703\n",
            "  validation accuracy: \t\t\t39.19 %\n"
          ]
        },
        {
          "output_type": "stream",
          "name": "stderr",
          "text": [
            "100%|██████████| 1563/1563 [01:53<00:00, 13.77it/s]\n"
          ]
        },
        {
          "output_type": "stream",
          "name": "stdout",
          "text": [
            "Epoch 20 of 30 took 116.877s\n",
            "  training loss (in-iteration): \t2.122776\n",
            "  validation accuracy: \t\t\t38.91 %\n"
          ]
        },
        {
          "output_type": "stream",
          "name": "stderr",
          "text": [
            "100%|██████████| 1563/1563 [01:49<00:00, 14.27it/s]\n"
          ]
        },
        {
          "output_type": "stream",
          "name": "stdout",
          "text": [
            "Epoch 21 of 30 took 114.839s\n",
            "  training loss (in-iteration): \t2.083742\n",
            "  validation accuracy: \t\t\t39.62 %\n"
          ]
        },
        {
          "output_type": "stream",
          "name": "stderr",
          "text": [
            "100%|██████████| 1563/1563 [01:49<00:00, 14.28it/s]\n"
          ]
        },
        {
          "output_type": "stream",
          "name": "stdout",
          "text": [
            "Epoch 22 of 30 took 112.843s\n",
            "  training loss (in-iteration): \t2.057145\n",
            "  validation accuracy: \t\t\t40.58 %\n"
          ]
        },
        {
          "output_type": "stream",
          "name": "stderr",
          "text": [
            "100%|██████████| 1563/1563 [01:51<00:00, 14.03it/s]\n"
          ]
        },
        {
          "output_type": "stream",
          "name": "stdout",
          "text": [
            "Epoch 23 of 30 took 114.794s\n",
            "  training loss (in-iteration): \t2.019151\n",
            "  validation accuracy: \t\t\t38.87 %\n"
          ]
        },
        {
          "output_type": "stream",
          "name": "stderr",
          "text": [
            "100%|██████████| 1563/1563 [01:48<00:00, 14.34it/s]\n"
          ]
        },
        {
          "output_type": "stream",
          "name": "stdout",
          "text": [
            "Epoch 24 of 30 took 112.477s\n",
            "  training loss (in-iteration): \t1.990008\n",
            "  validation accuracy: \t\t\t40.39 %\n"
          ]
        },
        {
          "output_type": "stream",
          "name": "stderr",
          "text": [
            "100%|██████████| 1563/1563 [01:50<00:00, 14.19it/s]\n"
          ]
        },
        {
          "output_type": "stream",
          "name": "stdout",
          "text": [
            "Epoch 25 of 30 took 114.956s\n",
            "  training loss (in-iteration): \t1.958988\n",
            "  validation accuracy: \t\t\t38.84 %\n"
          ]
        },
        {
          "output_type": "stream",
          "name": "stderr",
          "text": [
            "100%|██████████| 1563/1563 [01:52<00:00, 13.87it/s]\n"
          ]
        },
        {
          "output_type": "stream",
          "name": "stdout",
          "text": [
            "Epoch 26 of 30 took 117.790s\n",
            "  training loss (in-iteration): \t1.931746\n",
            "  validation accuracy: \t\t\t40.03 %\n"
          ]
        },
        {
          "output_type": "stream",
          "name": "stderr",
          "text": [
            "100%|██████████| 1563/1563 [01:52<00:00, 13.83it/s]\n"
          ]
        },
        {
          "output_type": "stream",
          "name": "stdout",
          "text": [
            "Epoch 27 of 30 took 117.850s\n",
            "  training loss (in-iteration): \t1.905063\n",
            "  validation accuracy: \t\t\t41.55 %\n"
          ]
        },
        {
          "output_type": "stream",
          "name": "stderr",
          "text": [
            "100%|██████████| 1563/1563 [01:53<00:00, 13.75it/s]\n"
          ]
        },
        {
          "output_type": "stream",
          "name": "stdout",
          "text": [
            "Epoch 28 of 30 took 117.289s\n",
            "  training loss (in-iteration): \t1.873394\n",
            "  validation accuracy: \t\t\t38.36 %\n"
          ]
        },
        {
          "output_type": "stream",
          "name": "stderr",
          "text": [
            "100%|██████████| 1563/1563 [01:48<00:00, 14.35it/s]\n"
          ]
        },
        {
          "output_type": "stream",
          "name": "stdout",
          "text": [
            "Epoch 29 of 30 took 112.269s\n",
            "  training loss (in-iteration): \t1.846565\n",
            "  validation accuracy: \t\t\t41.70 %\n"
          ]
        },
        {
          "output_type": "stream",
          "name": "stderr",
          "text": [
            "100%|██████████| 1563/1563 [01:55<00:00, 13.57it/s]\n"
          ]
        },
        {
          "output_type": "stream",
          "name": "stdout",
          "text": [
            "Epoch 30 of 30 took 118.551s\n",
            "  training loss (in-iteration): \t1.818840\n",
            "  validation accuracy: \t\t\t38.92 %\n"
          ]
        }
      ],
      "source": [
        "# YOUR CODE: create resnet model, move it to 'device', create same optimizer as in previous experiment\n",
        "model = create_resnet_like_network().to(device)\n",
        "opt = torch.optim.Adam(model.parameters())\n",
        "train_loop(model, opt, train_batch_gen, val_batch_gen, num_epochs=30)"
      ]
    },
    {
      "cell_type": "markdown",
      "metadata": {
        "id": "O1FB9wjQlzm3"
      },
      "source": [
        "If you were attentive to our resnet network, you may notice that it has almost 2x more parameters and 2x deeper than vgg-like network. Let's define comparable vgg-like network by doubling amount of conv layers.\n",
        "\n",
        "Our new vgg-like architecture will be [Conv(16), Conv(16), MaxPool] + [Conv(32), Conv(32), Conv(32), Conv(32), MaxPool] + [Conv(64), Conv(64), Conv(64), Conv(64), MaxPool] + [Conv(128), Conv(128), Conv(128), Conv(128)] + [GlobalAveragePooling] + [FC(200) + softmax]"
      ]
    },
    {
      "cell_type": "code",
      "execution_count": 18,
      "metadata": {
        "scrolled": true,
        "id": "NG2OYMyOlzm3",
        "colab": {
          "base_uri": "https://localhost:8080/"
        },
        "outputId": "1d578c73-d054-4b0a-d02a-dbc00f430832"
      },
      "outputs": [
        {
          "metadata": {
            "tags": null
          },
          "name": "stderr",
          "output_type": "stream",
          "text": [
            "100%|██████████| 1563/1563 [01:36<00:00, 16.22it/s]\n"
          ]
        },
        {
          "metadata": {
            "tags": null
          },
          "name": "stdout",
          "output_type": "stream",
          "text": [
            "Epoch 1 of 30 took 98.539s\n",
            "  training loss (in-iteration): \t4.567338\n",
            "  validation accuracy: \t\t\t7.23 %\n"
          ]
        },
        {
          "metadata": {
            "tags": null
          },
          "name": "stderr",
          "output_type": "stream",
          "text": [
            "100%|██████████| 1563/1563 [01:32<00:00, 16.87it/s]\n"
          ]
        },
        {
          "metadata": {
            "tags": null
          },
          "name": "stdout",
          "output_type": "stream",
          "text": [
            "Epoch 2 of 30 took 94.809s\n",
            "  training loss (in-iteration): \t3.995799\n",
            "  validation accuracy: \t\t\t12.48 %\n"
          ]
        },
        {
          "metadata": {
            "tags": null
          },
          "name": "stderr",
          "output_type": "stream",
          "text": [
            "100%|██████████| 1563/1563 [01:32<00:00, 16.86it/s]\n"
          ]
        },
        {
          "metadata": {
            "tags": null
          },
          "name": "stdout",
          "output_type": "stream",
          "text": [
            "Epoch 3 of 30 took 95.867s\n",
            "  training loss (in-iteration): \t3.683598\n",
            "  validation accuracy: \t\t\t16.11 %\n"
          ]
        },
        {
          "metadata": {
            "tags": null
          },
          "name": "stderr",
          "output_type": "stream",
          "text": [
            "100%|██████████| 1563/1563 [01:32<00:00, 16.90it/s]\n"
          ]
        },
        {
          "metadata": {
            "tags": null
          },
          "name": "stdout",
          "output_type": "stream",
          "text": [
            "Epoch 4 of 30 took 94.916s\n",
            "  training loss (in-iteration): \t3.454644\n",
            "  validation accuracy: \t\t\t20.49 %\n"
          ]
        },
        {
          "metadata": {
            "tags": null
          },
          "name": "stderr",
          "output_type": "stream",
          "text": [
            "100%|██████████| 1563/1563 [01:33<00:00, 16.78it/s]\n"
          ]
        },
        {
          "metadata": {
            "tags": null
          },
          "name": "stdout",
          "output_type": "stream",
          "text": [
            "Epoch 5 of 30 took 95.425s\n",
            "  training loss (in-iteration): \t3.277801\n",
            "  validation accuracy: \t\t\t23.83 %\n"
          ]
        },
        {
          "metadata": {
            "tags": null
          },
          "name": "stderr",
          "output_type": "stream",
          "text": [
            "100%|██████████| 1563/1563 [01:33<00:00, 16.74it/s]\n"
          ]
        },
        {
          "metadata": {
            "tags": null
          },
          "name": "stdout",
          "output_type": "stream",
          "text": [
            "Epoch 6 of 30 took 95.564s\n",
            "  training loss (in-iteration): \t3.130889\n",
            "  validation accuracy: \t\t\t27.35 %\n"
          ]
        },
        {
          "metadata": {
            "tags": null
          },
          "name": "stderr",
          "output_type": "stream",
          "text": [
            "100%|██████████| 1563/1563 [01:32<00:00, 16.86it/s]\n"
          ]
        },
        {
          "metadata": {
            "tags": null
          },
          "name": "stdout",
          "output_type": "stream",
          "text": [
            "Epoch 7 of 30 took 95.715s\n",
            "  training loss (in-iteration): \t3.003608\n",
            "  validation accuracy: \t\t\t26.19 %\n"
          ]
        },
        {
          "metadata": {
            "tags": null
          },
          "name": "stderr",
          "output_type": "stream",
          "text": [
            "100%|██████████| 1563/1563 [01:32<00:00, 16.89it/s]\n"
          ]
        },
        {
          "metadata": {
            "tags": null
          },
          "name": "stdout",
          "output_type": "stream",
          "text": [
            "Epoch 8 of 30 took 95.329s\n",
            "  training loss (in-iteration): \t2.890152\n",
            "  validation accuracy: \t\t\t29.54 %\n"
          ]
        },
        {
          "metadata": {
            "tags": null
          },
          "name": "stderr",
          "output_type": "stream",
          "text": [
            "100%|██████████| 1563/1563 [01:32<00:00, 16.84it/s]\n"
          ]
        },
        {
          "metadata": {
            "tags": null
          },
          "name": "stdout",
          "output_type": "stream",
          "text": [
            "Epoch 9 of 30 took 94.991s\n",
            "  training loss (in-iteration): \t2.794661\n",
            "  validation accuracy: \t\t\t31.84 %\n"
          ]
        },
        {
          "metadata": {
            "tags": null
          },
          "name": "stderr",
          "output_type": "stream",
          "text": [
            "100%|██████████| 1563/1563 [01:34<00:00, 16.45it/s]\n"
          ]
        },
        {
          "metadata": {
            "tags": null
          },
          "name": "stdout",
          "output_type": "stream",
          "text": [
            "Epoch 10 of 30 took 97.216s\n",
            "  training loss (in-iteration): \t2.711404\n",
            "  validation accuracy: \t\t\t34.14 %\n"
          ]
        },
        {
          "metadata": {
            "tags": null
          },
          "name": "stderr",
          "output_type": "stream",
          "text": [
            "100%|██████████| 1563/1563 [01:36<00:00, 16.24it/s]\n"
          ]
        },
        {
          "metadata": {
            "tags": null
          },
          "name": "stdout",
          "output_type": "stream",
          "text": [
            "Epoch 11 of 30 took 98.468s\n",
            "  training loss (in-iteration): \t2.632059\n",
            "  validation accuracy: \t\t\t34.39 %\n"
          ]
        },
        {
          "metadata": {
            "tags": null
          },
          "name": "stderr",
          "output_type": "stream",
          "text": [
            "100%|██████████| 1563/1563 [01:35<00:00, 16.43it/s]\n"
          ]
        },
        {
          "metadata": {
            "tags": null
          },
          "name": "stdout",
          "output_type": "stream",
          "text": [
            "Epoch 12 of 30 took 97.361s\n",
            "  training loss (in-iteration): \t2.561158\n",
            "  validation accuracy: \t\t\t35.76 %\n"
          ]
        },
        {
          "metadata": {
            "tags": null
          },
          "name": "stderr",
          "output_type": "stream",
          "text": [
            "100%|██████████| 1563/1563 [01:33<00:00, 16.63it/s]\n"
          ]
        },
        {
          "metadata": {
            "tags": null
          },
          "name": "stdout",
          "output_type": "stream",
          "text": [
            "Epoch 13 of 30 took 97.214s\n",
            "  training loss (in-iteration): \t2.498256\n",
            "  validation accuracy: \t\t\t35.36 %\n"
          ]
        },
        {
          "metadata": {
            "tags": null
          },
          "name": "stderr",
          "output_type": "stream",
          "text": [
            "100%|██████████| 1563/1563 [01:33<00:00, 16.67it/s]\n"
          ]
        },
        {
          "metadata": {
            "tags": null
          },
          "name": "stdout",
          "output_type": "stream",
          "text": [
            "Epoch 14 of 30 took 96.506s\n",
            "  training loss (in-iteration): \t2.429865\n",
            "  validation accuracy: \t\t\t36.97 %\n"
          ]
        },
        {
          "metadata": {
            "tags": null
          },
          "name": "stderr",
          "output_type": "stream",
          "text": [
            "100%|██████████| 1563/1563 [01:34<00:00, 16.58it/s]\n"
          ]
        },
        {
          "metadata": {
            "tags": null
          },
          "name": "stdout",
          "output_type": "stream",
          "text": [
            "Epoch 15 of 30 took 96.458s\n",
            "  training loss (in-iteration): \t2.375069\n",
            "  validation accuracy: \t\t\t38.04 %\n"
          ]
        },
        {
          "metadata": {
            "tags": null
          },
          "name": "stderr",
          "output_type": "stream",
          "text": [
            "100%|██████████| 1563/1563 [01:35<00:00, 16.33it/s]\n"
          ]
        },
        {
          "metadata": {
            "tags": null
          },
          "name": "stdout",
          "output_type": "stream",
          "text": [
            "Epoch 16 of 30 took 97.882s\n",
            "  training loss (in-iteration): \t2.316363\n",
            "  validation accuracy: \t\t\t36.97 %\n"
          ]
        },
        {
          "metadata": {
            "tags": null
          },
          "name": "stderr",
          "output_type": "stream",
          "text": [
            "100%|██████████| 1563/1563 [01:34<00:00, 16.49it/s]\n"
          ]
        },
        {
          "metadata": {
            "tags": null
          },
          "name": "stdout",
          "output_type": "stream",
          "text": [
            "Epoch 17 of 30 took 96.996s\n",
            "  training loss (in-iteration): \t2.266271\n",
            "  validation accuracy: \t\t\t37.63 %\n"
          ]
        },
        {
          "metadata": {
            "tags": null
          },
          "name": "stderr",
          "output_type": "stream",
          "text": [
            "100%|██████████| 1563/1563 [01:33<00:00, 16.77it/s]\n"
          ]
        },
        {
          "metadata": {
            "tags": null
          },
          "name": "stdout",
          "output_type": "stream",
          "text": [
            "Epoch 18 of 30 took 95.404s\n",
            "  training loss (in-iteration): \t2.218327\n",
            "  validation accuracy: \t\t\t39.44 %\n"
          ]
        },
        {
          "metadata": {
            "tags": null
          },
          "name": "stderr",
          "output_type": "stream",
          "text": [
            "100%|██████████| 1563/1563 [01:34<00:00, 16.48it/s]\n"
          ]
        },
        {
          "metadata": {
            "tags": null
          },
          "name": "stdout",
          "output_type": "stream",
          "text": [
            "Epoch 19 of 30 took 97.123s\n",
            "  training loss (in-iteration): \t2.180805\n",
            "  validation accuracy: \t\t\t40.18 %\n"
          ]
        },
        {
          "metadata": {
            "tags": null
          },
          "name": "stderr",
          "output_type": "stream",
          "text": [
            "100%|██████████| 1563/1563 [01:37<00:00, 16.11it/s]\n"
          ]
        },
        {
          "metadata": {
            "tags": null
          },
          "name": "stdout",
          "output_type": "stream",
          "text": [
            "Epoch 20 of 30 took 99.384s\n",
            "  training loss (in-iteration): \t2.128473\n",
            "  validation accuracy: \t\t\t40.10 %\n"
          ]
        },
        {
          "metadata": {
            "tags": null
          },
          "name": "stderr",
          "output_type": "stream",
          "text": [
            "100%|██████████| 1563/1563 [01:36<00:00, 16.18it/s]\n"
          ]
        },
        {
          "metadata": {
            "tags": null
          },
          "name": "stdout",
          "output_type": "stream",
          "text": [
            "Epoch 21 of 30 took 98.794s\n",
            "  training loss (in-iteration): \t2.092403\n",
            "  validation accuracy: \t\t\t40.24 %\n"
          ]
        },
        {
          "metadata": {
            "tags": null
          },
          "name": "stderr",
          "output_type": "stream",
          "text": [
            "100%|██████████| 1563/1563 [01:36<00:00, 16.26it/s]\n"
          ]
        },
        {
          "metadata": {
            "tags": null
          },
          "name": "stdout",
          "output_type": "stream",
          "text": [
            "Epoch 22 of 30 took 98.396s\n",
            "  training loss (in-iteration): \t2.051434\n",
            "  validation accuracy: \t\t\t40.73 %\n"
          ]
        },
        {
          "metadata": {
            "tags": null
          },
          "name": "stderr",
          "output_type": "stream",
          "text": [
            "100%|██████████| 1563/1563 [01:36<00:00, 16.18it/s]\n"
          ]
        },
        {
          "metadata": {
            "tags": null
          },
          "name": "stdout",
          "output_type": "stream",
          "text": [
            "Epoch 23 of 30 took 98.866s\n",
            "  training loss (in-iteration): \t2.012803\n",
            "  validation accuracy: \t\t\t41.39 %\n"
          ]
        },
        {
          "metadata": {
            "tags": null
          },
          "name": "stderr",
          "output_type": "stream",
          "text": [
            "100%|██████████| 1563/1563 [01:35<00:00, 16.29it/s]\n"
          ]
        },
        {
          "metadata": {
            "tags": null
          },
          "name": "stdout",
          "output_type": "stream",
          "text": [
            "Epoch 24 of 30 took 98.229s\n",
            "  training loss (in-iteration): \t1.983682\n",
            "  validation accuracy: \t\t\t42.31 %\n"
          ]
        },
        {
          "metadata": {
            "tags": null
          },
          "name": "stderr",
          "output_type": "stream",
          "text": [
            "100%|██████████| 1563/1563 [01:36<00:00, 16.22it/s]\n"
          ]
        },
        {
          "metadata": {
            "tags": null
          },
          "name": "stdout",
          "output_type": "stream",
          "text": [
            "Epoch 25 of 30 took 98.554s\n",
            "  training loss (in-iteration): \t1.945923\n",
            "  validation accuracy: \t\t\t42.57 %\n"
          ]
        },
        {
          "metadata": {
            "tags": null
          },
          "name": "stderr",
          "output_type": "stream",
          "text": [
            "100%|██████████| 1563/1563 [01:36<00:00, 16.28it/s]\n"
          ]
        },
        {
          "metadata": {
            "tags": null
          },
          "name": "stdout",
          "output_type": "stream",
          "text": [
            "Epoch 26 of 30 took 98.243s\n",
            "  training loss (in-iteration): \t1.907267\n",
            "  validation accuracy: \t\t\t41.38 %\n"
          ]
        },
        {
          "metadata": {
            "tags": null
          },
          "name": "stderr",
          "output_type": "stream",
          "text": [
            "100%|██████████| 1563/1563 [01:36<00:00, 16.22it/s]\n"
          ]
        },
        {
          "metadata": {
            "tags": null
          },
          "name": "stdout",
          "output_type": "stream",
          "text": [
            "Epoch 27 of 30 took 98.531s\n",
            "  training loss (in-iteration): \t1.878778\n",
            "  validation accuracy: \t\t\t41.15 %\n"
          ]
        },
        {
          "output_type": "stream",
          "name": "stderr",
          "text": [
            "100%|██████████| 1563/1563 [01:34<00:00, 16.50it/s]\n"
          ]
        },
        {
          "output_type": "stream",
          "name": "stdout",
          "text": [
            "Epoch 28 of 30 took 97.046s\n",
            "  training loss (in-iteration): \t1.848333\n",
            "  validation accuracy: \t\t\t42.85 %\n"
          ]
        },
        {
          "output_type": "stream",
          "name": "stderr",
          "text": [
            "100%|██████████| 1563/1563 [01:35<00:00, 16.37it/s]\n"
          ]
        },
        {
          "output_type": "stream",
          "name": "stdout",
          "text": [
            "Epoch 29 of 30 took 97.694s\n",
            "  training loss (in-iteration): \t1.819561\n",
            "  validation accuracy: \t\t\t42.94 %\n"
          ]
        },
        {
          "output_type": "stream",
          "name": "stderr",
          "text": [
            "100%|██████████| 1563/1563 [01:36<00:00, 16.20it/s]\n"
          ]
        },
        {
          "output_type": "stream",
          "name": "stdout",
          "text": [
            "Epoch 30 of 30 took 98.717s\n",
            "  training loss (in-iteration): \t1.796483\n",
            "  validation accuracy: \t\t\t42.75 %\n"
          ]
        }
      ],
      "source": [
        "model = create_vgg_like_network(config=[[16,16], [32,32,32,32], [64, 64, 64, 64], [128, 128, 128, 128]])\n",
        "model = model.to(device)\n",
        "opt = torch.optim.Adam(model.parameters())\n",
        "train_loop(model, opt, train_batch_gen, val_batch_gen, num_epochs=30)"
      ]
    },
    {
      "cell_type": "markdown",
      "metadata": {
        "id": "fdqNGtuLlzm4"
      },
      "source": [
        "Do you see the profit from residual connections?\n",
        "\n",
        "The quality of vgg network in this experiment could be even worse than the quality of vgg network in the first experiment. This is due to gradient vanishing problem that makes it hard to train deep neural networks without residual conections."
      ]
    },
    {
      "cell_type": "markdown",
      "metadata": {
        "id": "aR2b6puvlzm4"
      },
      "source": [
        "## Part 3. Test time augmentations"
      ]
    },
    {
      "cell_type": "markdown",
      "metadata": {
        "id": "TRHciaEelzm4"
      },
      "source": [
        "Test-time augmentation (TTA) is a powerful techneque that allows you to trade inference time for quality. The main idea is as follows. As for train data augmentation, you may use some image transformations to generate new representations of the input image and expect that on these representations properly trained network provides consistent predictions. These predictions can be averaged then in order to get more stable prediction."
      ]
    },
    {
      "cell_type": "code",
      "execution_count": 19,
      "metadata": {
        "id": "P6nMjrrolzm4",
        "outputId": "6f58b550-30f8-4945-93f7-9e4b6c72bf17",
        "colab": {
          "base_uri": "https://localhost:8080/"
        }
      },
      "outputs": [
        {
          "output_type": "stream",
          "name": "stdout",
          "text": [
            "Trained model accuracy: 0.42754777070063693\n"
          ]
        }
      ],
      "source": [
        "model_accuracy = eval_model(model, val_batch_gen)\n",
        "print(f\"Trained model accuracy: {model_accuracy}\")"
      ]
    },
    {
      "cell_type": "code",
      "execution_count": 32,
      "metadata": {
        "id": "YDYLu8Jklzm4"
      },
      "outputs": [],
      "source": [
        "def eval_model_with_tta(model, data_generator, transformations, n_transformations):\n",
        "    accuracy = []\n",
        "    model.train(False) # disable dropout / use averages for batch_norm\n",
        "    with torch.no_grad():\n",
        "        for X_batch, y_batch in tqdm.tqdm(data_generator):\n",
        "            logits_per_transform = []\n",
        "            for _ in range(n_transformations):\n",
        "                # YOUR CODE: apply transformations to X_batch, move batch to device, run forward pass\n",
        "                # DON\"T OVERRIDE X_batch\n",
        "                X_batch_transformed = transformations(X_batch)\n",
        "                X_batch_transformed = X_batch_transformed.cuda()\n",
        "                logits = model(X_batch_transformed)\n",
        "\n",
        "                logits_per_transform.append(logits)\n",
        "\n",
        "            # YOUR CODE: stack logits_per_transform and calculate mean over stacked dimension\n",
        "            averaged_logits = torch.mean(torch.stack(logits_per_transform), dim=0)\n",
        "\n",
        "            y_pred = averaged_logits.max(dim=1)[1].data\n",
        "            accuracy.append(np.mean((y_batch.cpu() == y_pred.cpu()).numpy()))\n",
        "    return np.mean(accuracy)"
      ]
    },
    {
      "cell_type": "code",
      "execution_count": 35,
      "metadata": {
        "id": "ELcLNZGTlzm4"
      },
      "outputs": [],
      "source": [
        "tta_transformations = transforms.Compose([\n",
        "    transforms.RandomHorizontalFlip(),\n",
        "    transforms.RandomRotation(5),\n",
        "    transforms.ColorJitter()\n",
        "    # YOUR CODE: add ColorJitter augmentation; probably it's good idea to reduce the parameters of\n",
        "    # jittering comparing to augmentation on train set in order to reduce variance\n",
        "])"
      ]
    },
    {
      "cell_type": "code",
      "source": [
        "val_batch_gen"
      ],
      "metadata": {
        "colab": {
          "base_uri": "https://localhost:8080/"
        },
        "id": "K6P1CpyvdXPq",
        "outputId": "21e7adf6-e3eb-4ed5-f625-0bfbbf693a25"
      },
      "execution_count": 36,
      "outputs": [
        {
          "output_type": "execute_result",
          "data": {
            "text/plain": [
              "<torch.utils.data.dataloader.DataLoader at 0x7fd0b23f9f30>"
            ]
          },
          "metadata": {},
          "execution_count": 36
        }
      ]
    },
    {
      "cell_type": "code",
      "execution_count": 37,
      "metadata": {
        "id": "wTA_dlJ3lzm4",
        "colab": {
          "base_uri": "https://localhost:8080/"
        },
        "outputId": "b43d4b55-3d0e-4b66-d409-67ebd62a2cab"
      },
      "outputs": [
        {
          "output_type": "stream",
          "name": "stderr",
          "text": [
            "100%|██████████| 157/157 [00:08<00:00, 18.34it/s]\n"
          ]
        },
        {
          "output_type": "stream",
          "name": "stdout",
          "text": [
            "Model accuracy with 3 forward runs is 0.43441480891719747\n"
          ]
        },
        {
          "output_type": "stream",
          "name": "stderr",
          "text": [
            "100%|██████████| 157/157 [00:11<00:00, 14.12it/s]\n"
          ]
        },
        {
          "output_type": "stream",
          "name": "stdout",
          "text": [
            "Model accuracy with 5 forward runs is 0.43789808917197454\n"
          ]
        },
        {
          "output_type": "stream",
          "name": "stderr",
          "text": [
            "100%|██████████| 157/157 [00:15<00:00,  9.91it/s]\n"
          ]
        },
        {
          "output_type": "stream",
          "name": "stdout",
          "text": [
            "Model accuracy with 7 forward runs is 0.4424761146496815\n"
          ]
        },
        {
          "output_type": "stream",
          "name": "stderr",
          "text": [
            "100%|██████████| 157/157 [00:19<00:00,  8.24it/s]\n"
          ]
        },
        {
          "output_type": "stream",
          "name": "stdout",
          "text": [
            "Model accuracy with 9 forward runs is 0.4419785031847134\n"
          ]
        },
        {
          "output_type": "stream",
          "name": "stderr",
          "text": [
            "100%|██████████| 157/157 [00:27<00:00,  5.80it/s]\n"
          ]
        },
        {
          "output_type": "stream",
          "name": "stdout",
          "text": [
            "Model accuracy with 13 forward runs is 0.4397890127388535\n"
          ]
        },
        {
          "output_type": "stream",
          "name": "stderr",
          "text": [
            "100%|██████████| 157/157 [00:30<00:00,  5.08it/s]"
          ]
        },
        {
          "output_type": "stream",
          "name": "stdout",
          "text": [
            "Model accuracy with 15 forward runs is 0.44098328025477707\n"
          ]
        },
        {
          "output_type": "stream",
          "name": "stderr",
          "text": [
            "\n"
          ]
        }
      ],
      "source": [
        "n_forwards = [1]\n",
        "tta_accuracy = [model_accuracy]\n",
        "for i in [3, 5, 7, 9, 13, 15]:\n",
        "    tta_accuracy.append(eval_model_with_tta(model, val_batch_gen, tta_transformations, n_transformations=i))\n",
        "    n_forwards.append(i)\n",
        "    print(f\"Model accuracy with {n_forwards[-1]} forward runs is {tta_accuracy[-1]}\")"
      ]
    },
    {
      "cell_type": "markdown",
      "metadata": {
        "id": "WbTF5Skmlzm4"
      },
      "source": [
        "Let's visualize what we have computed"
      ]
    },
    {
      "cell_type": "code",
      "execution_count": 38,
      "metadata": {
        "id": "5byWF1Xtlzm4"
      },
      "outputs": [],
      "source": [
        "import matplotlib.pyplot as plt\n",
        "%matplotlib inline"
      ]
    },
    {
      "cell_type": "code",
      "execution_count": 39,
      "metadata": {
        "id": "WuqUwd3Olzm4",
        "colab": {
          "base_uri": "https://localhost:8080/",
          "height": 490
        },
        "outputId": "db17a6fb-c283-4ca0-e5f4-2dccc3c4accf"
      },
      "outputs": [
        {
          "output_type": "execute_result",
          "data": {
            "text/plain": [
              "Text(0.5, 1.0, 'Test time augmentation results')"
            ]
          },
          "metadata": {},
          "execution_count": 39
        },
        {
          "output_type": "display_data",
          "data": {
            "text/plain": [
              "<Figure size 640x480 with 1 Axes>"
            ],
            "image/png": "[encoded data removed]"
          },
          "metadata": {}
        }
      ],
      "source": [
        "plt.plot(n_forwards, tta_accuracy)\n",
        "plt.grid()\n",
        "plt.xlabel('n_forwards per sample')\n",
        "plt.ylabel('accuracy')\n",
        "plt.title('Test time augmentation results')"
      ]
    },
    {
      "cell_type": "markdown",
      "metadata": {
        "id": "92eeeQT4lzm4"
      },
      "source": [
        "Normally you should get 1-2% improvement of accuracy here."
      ]
    },
    {
      "cell_type": "markdown",
      "metadata": {
        "id": "Hr7vQAAElzm4"
      },
      "source": [
        "## What's next?\n",
        "Introducing of residual blocks played a big role in deep learning and allowed to train deep (and I mean really [DEEP](https://github.com/KaimingHe/resnet-1k-layers/blob/master/resnet-pre-act.lua#L2)) networks. Many modern architectures include such layer or its variation. For deeper understanding of influence of skip connections you can read the following papers:\n",
        "1. [\"Residual Networks Behave Like Ensembles of\n",
        "Relatively Shallow Networks\"](https://arxiv.org/pdf/1605.06431.pdf) - interesting point of view on residual blocks showing that statement \"skip connections solves vanishing gradients problem\" is ambigious in some way\n",
        "2. [\"Identity Mappings in Deep Residual Networks\"](https://arxiv.org/pdf/1603.05027.pdf) ([short summary](https://towardsdatascience.com/resnet-with-identity-mapping-over-1000-layers-reached-image-classification-bb50a42af03e)) - study and comparison of different residual blocks variations showing that preserving \"identity path\" through the network improves quality\n",
        "3. [\"Visualizing the Loss Landscape of Neural Nets\"](https://arxiv.org/pdf/1712.09913.pdf) - some attempts on loss function visualization showed how skip-connections affect loss landscape"
      ]
    }
  ],
  "metadata": {
    "accelerator": "GPU",
    "colab": {
      "provenance": []
    },
    "kernelspec": {
      "display_name": "Python 3 (ipykernel)",
      "language": "python",
      "name": "python3"
    },
    "language_info": {
      "codemirror_mode": {
        "name": "ipython",
        "version": 3
      },
      "file_extension": ".py",
      "mimetype": "text/x-python",
      "name": "python",
      "nbconvert_exporter": "python",
      "pygments_lexer": "ipython3",
      "version": "3.8.10"
    },
    "notebookId": "0bd81ca7-4175-4905-a84c-21ed8da72299"
  },
  "nbformat": 4,
  "nbformat_minor": 0
}